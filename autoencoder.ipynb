{
 "cells": [
  {
   "cell_type": "markdown",
   "metadata": {},
   "source": [
    "We first import necessary packages and load MNIST data"
   ]
  },
  {
   "cell_type": "code",
   "execution_count": 44,
   "metadata": {},
   "outputs": [
    {
     "name": "stderr",
     "output_type": "stream",
     "text": [
      "/usr/local/lib/python2.7/dist-packages/sklearn/utils/deprecation.py:77: DeprecationWarning: Function fetch_mldata is deprecated; fetch_mldata was deprecated in version 0.20 and will be removed in version 0.22\n",
      "  warnings.warn(msg, category=DeprecationWarning)\n",
      "/usr/local/lib/python2.7/dist-packages/sklearn/utils/deprecation.py:77: DeprecationWarning: Function mldata_filename is deprecated; mldata_filename was deprecated in version 0.20 and will be removed in version 0.22\n",
      "  warnings.warn(msg, category=DeprecationWarning)\n"
     ]
    },
    {
     "name": "stdout",
     "output_type": "stream",
     "text": [
      "(70000, 784)\n"
     ]
    }
   ],
   "source": [
    "%matplotlib inline\n",
    "import matplotlib\n",
    "import matplotlib.pyplot as plt\n",
    "from sklearn.datasets import fetch_mldata\n",
    "from sklearn.utils import shuffle\n",
    "import numpy as np\n",
    "import dynet as dy\n",
    "import random\n",
    "\n",
    "mnist = fetch_mldata('MNIST original')\n",
    "X = mnist.data.astype('float64')\n",
    "noise_ratio = 0.5\n",
    "X += np.random.normal(scale = noise_ratio, size = X.shape)\n",
    "y = mnist.target\n",
    "print(X.shape)\n",
    "X_train, y_train = X[:50000], y[:50000]\n",
    "X_dev, y_dev = X[50000:60000], y[50000:60000]\n",
    "X_test, y_test = X[60000:70000], y[60000:70000]\n",
    "\n",
    "X_train, y_train = shuffle(X_train, y_train)\n",
    "X_test, y_test = shuffle(X_test, y_test)"
   ]
  },
  {
   "cell_type": "markdown",
   "metadata": {},
   "source": [
    "\n"
   ]
  },
  {
   "cell_type": "markdown",
   "metadata": {},
   "source": [
    "next, we define simple autoencoder class. We use Dynet for automatic differentiation"
   ]
  },
  {
   "cell_type": "code",
   "execution_count": 45,
   "metadata": {},
   "outputs": [],
   "source": [
    "class Autoencoder(object):\n",
    "    \n",
    "    def __init__(self, in_size = 784, hid_size = 100, out_size = 784):\n",
    "        \n",
    "        self.model = dy.Model()\n",
    "        self.W1 = self.model.add_parameters((hid_size, in_size))\n",
    "        self.b1 = self.model.add_parameters((hid_size, 1))\n",
    "        \n",
    "        self.W2 = self.model.add_parameters((out_size, hid_size))\n",
    "        self.b2 = self.model.add_parameters((out_size, 1))\n",
    "        \n",
    "        self.trainer = dy.AdamTrainer(self.model)\n",
    "        \n",
    "    def forward(self, x):\n",
    "        \n",
    "        W1, b1, W2, b2 = dy.parameter(self.W1), dy.parameter(self.b1), dy.parameter(self.W2), dy.parameter(self.b2)\n",
    "        \n",
    "        z = W1 * x + b1 # hidden encoding of the input\n",
    "        x_hat = W2 * z + b2 # reconstruction of the input\n",
    "        \n",
    "        return x_hat\n",
    "\n",
    "    def get_encoding_as_np_array(self, x):\n",
    "        \n",
    "        dy.renew_cg()\n",
    "\n",
    "        W1, b1, W2, b2 = dy.parameter(self.W1), dy.parameter(self.b1), dy.parameter(self.W2), dy.parameter(self.b2)\n",
    "\n",
    "        x_expr = dy.vecInput(len(x))\n",
    "        x_expr.set(x)\n",
    "        \n",
    "        z = W1 * x_expr + b1 # hidden encoding of the input\n",
    "        \n",
    "        return z.npvalue()\n",
    "    \n",
    "    def get_reconstruction_as_np_array(self, x):\n",
    "        \n",
    "        x = self.prepare(x)\n",
    "        return self.forward(x).npvalue()\n",
    "    \n",
    "    def prepare(self, x):\n",
    "        \n",
    "        x_expr = dy.vecInput(len(x))\n",
    "        x_expr.set(x)\n",
    "        return x_expr\n",
    "\n",
    "        \n",
    "    def train(self, train, dev, epochs = 5, batch_size = 32):\n",
    "        \n",
    "        \n",
    "        dy.renew_cg()\n",
    "        \n",
    "        for i in range(epochs):\n",
    "            \n",
    "            loss_values = []\n",
    "            print(\"Epoch {}/{}\".format(i, epochs))\n",
    "            dev_error = self.test(dev)\n",
    "            print(\"dev set average error: {}\".format(dev_error))\n",
    "            \n",
    "            for j, x in enumerate(train):\n",
    "                \n",
    "                x = self.prepare(x)\n",
    "                \n",
    "                if j % 5000 == 0:\n",
    "                    print(\"{}/{}\".format(j, len(train)))\n",
    "                    \n",
    "                reconstruction = self.forward(x)\n",
    "                loss = dy.squared_distance(x, reconstruction)\n",
    "                loss_values.append(loss)\n",
    "                \n",
    "                if j % batch_size == 0:\n",
    "                    \n",
    "                    loss_sum = dy.esum(loss_values)\n",
    "                    loss_sum.backward()\n",
    "                    self.trainer.update()\n",
    "                    loss_values = []\n",
    "                    dy.renew_cg()                    \n",
    "            \n",
    "    def test(self, dev):\n",
    "\n",
    "            total_error = 0.\n",
    "\n",
    "            for i, x in enumerate(dev):\n",
    "\n",
    "                dy.renew_cg()\n",
    "                x = self.prepare(x)\n",
    "                \n",
    "                reconstruction = self.forward(x)\n",
    "                loss = dy.squared_distance(x, reconstruction)\n",
    "                total_error += loss.npvalue()\n",
    "            \n",
    "            return total_error / len(dev)\n",
    "           "
   ]
  },
  {
   "cell_type": "code",
   "execution_count": 46,
   "metadata": {},
   "outputs": [
    {
     "name": "stdout",
     "output_type": "stream",
     "text": [
      "Epoch 0/5\n",
      "dev set average error: [8075909.09145]\n",
      "0/50000\n",
      "5000/50000\n",
      "10000/50000\n",
      "15000/50000\n",
      "20000/50000\n",
      "25000/50000\n",
      "30000/50000\n",
      "35000/50000\n",
      "40000/50000\n",
      "45000/50000\n",
      "Epoch 1/5\n",
      "dev set average error: [354892.56170469]\n",
      "0/50000\n",
      "5000/50000\n",
      "10000/50000\n",
      "15000/50000\n",
      "20000/50000\n",
      "25000/50000\n",
      "30000/50000\n",
      "35000/50000\n",
      "40000/50000\n",
      "45000/50000\n",
      "Epoch 2/5\n",
      "dev set average error: [345467.29459453]\n",
      "0/50000\n",
      "5000/50000\n",
      "10000/50000\n",
      "15000/50000\n",
      "20000/50000\n",
      "25000/50000\n",
      "30000/50000\n",
      "35000/50000\n",
      "40000/50000\n",
      "45000/50000\n",
      "Epoch 3/5\n",
      "dev set average error: [338875.80113125]\n",
      "0/50000\n",
      "5000/50000\n",
      "10000/50000\n",
      "15000/50000\n",
      "20000/50000\n",
      "25000/50000\n",
      "30000/50000\n",
      "35000/50000\n",
      "40000/50000\n",
      "45000/50000\n",
      "Epoch 4/5\n",
      "dev set average error: [334583.93918516]\n",
      "0/50000\n",
      "5000/50000\n",
      "10000/50000\n",
      "15000/50000\n",
      "20000/50000\n",
      "25000/50000\n",
      "30000/50000\n",
      "35000/50000\n",
      "40000/50000\n",
      "45000/50000\n"
     ]
    }
   ],
   "source": [
    "model = Autoencoder()\n",
    "model.train(X_train, X_dev)"
   ]
  },
  {
   "cell_type": "markdown",
   "metadata": {},
   "source": [
    "Next, we visualize the reconstruction of a few test set examples, and also the hidden activations (encodings) of those examples."
   ]
  },
  {
   "cell_type": "code",
   "execution_count": 43,
   "metadata": {},
   "outputs": [
    {
     "data": {
      "image/png": "[encoded data removed]",
      "text/plain": [
       "<matplotlib.figure.Figure at 0x7f2669574f10>"
      ]
     },
     "metadata": {
      "needs_background": "light"
     },
     "output_type": "display_data"
    }
   ],
   "source": [
    "X_test = shuffle(X_test)\n",
    "reconstructions = [model.get_reconstruction_as_np_array(X_test[i]) for i in range(100)]\n",
    "original = [X_test[i] for i in range(100)]\n",
    "hiddens = [model.get_encoding_as_np_array(X_test[i]) for i in range(100)]\n",
    "plt.figure(figsize=(20, 4))\n",
    "n = 12\n",
    "for i in range(n):\n",
    "    \n",
    "    # display original\n",
    "    ax = plt.subplot(3, n, i + 1)\n",
    "    plt.imshow(original[i].reshape(28, 28))\n",
    "    plt.gray()\n",
    "    ax.get_xaxis().set_visible(False)\n",
    "    ax.get_yaxis().set_visible(False)\n",
    "\n",
    "    # display reconstruction\n",
    "    ax = plt.subplot(3, n, i + 1 + n)\n",
    "    plt.imshow(reconstructions[i].reshape(28, 28))\n",
    "    plt.gray()\n",
    "    ax.get_xaxis().set_visible(False)\n",
    "    ax.get_yaxis().set_visible(False)\n",
    "\n",
    "    # display encodings\n",
    "    ax = plt.subplot(3, n, i + 1 + 2*n)\n",
    "    plt.imshow(hiddens[i].reshape(10, 10))\n",
    "    plt.gray()\n",
    "    ax.get_xaxis().set_visible(False)\n",
    "    ax.get_yaxis().set_visible(False)\n",
    "    \n",
    "plt.show()"
   ]
  },
  {
   "cell_type": "code",
   "execution_count": null,
   "metadata": {},
   "outputs": [],
   "source": []
  },
  {
   "cell_type": "code",
   "execution_count": null,
   "metadata": {},
   "outputs": [],
   "source": []
  },
  {
   "cell_type": "code",
   "execution_count": null,
   "metadata": {},
   "outputs": [],
   "source": []
  },
  {
   "cell_type": "code",
   "execution_count": null,
   "metadata": {},
   "outputs": [],
   "source": []
  },
  {
   "cell_type": "code",
   "execution_count": null,
   "metadata": {},
   "outputs": [],
   "source": []
  },
  {
   "cell_type": "code",
   "execution_count": null,
   "metadata": {},
   "outputs": [],
   "source": []
  },
  {
   "cell_type": "code",
   "execution_count": null,
   "metadata": {},
   "outputs": [],
   "source": []
  }
 ],
 "metadata": {
  "kernelspec": {
   "display_name": "Python 2",
   "language": "python",
   "name": "python2"
  },
  "language_info": {
   "codemirror_mode": {
    "name": "ipython",
    "version": 2
   },
   "file_extension": ".py",
   "mimetype": "text/x-python",
   "name": "python",
   "nbconvert_exporter": "python",
   "pygments_lexer": "ipython2",
   "version": "2.7.15rc1"
  }
 },
 "nbformat": 4,
 "nbformat_minor": 2
}
